{
 "cells": [
  {
   "cell_type": "code",
   "execution_count": null,
   "metadata": {},
   "outputs": [],
   "source": [
    "# 1.Detecting floating point number\n",
    "\n",
    "import re\n",
    "\n",
    "if __name__ == \"__main__\":\n",
    "    t = int(input().strip())\n",
    "    p = \"^[+-]?[0-9]*\\.[0-9]+$\"\n",
    "    \n",
    "for i in range(t):\n",
    "    print(bool(re.match(p, input())))"
   ]
  },
  {
   "cell_type": "code",
   "execution_count": null,
   "metadata": {},
   "outputs": [],
   "source": [
    "# 2.Re.split()\n",
    "\n",
    "regex_pattern =  r\"[.,]+\""
   ]
  },
  {
   "cell_type": "code",
   "execution_count": null,
   "metadata": {},
   "outputs": [],
   "source": [
    "#3.Group(),groups() and groupsDict() \n",
    "\n",
    "import re\n",
    "s=input()\n",
    "m=re.match(r'.*?([a-z0-9A-Z])\\1', s)\n",
    "if m is None:\n",
    "    print(-1)\n",
    "else:\n",
    "    print(m.group(1))"
   ]
  },
  {
   "cell_type": "code",
   "execution_count": null,
   "metadata": {},
   "outputs": [],
   "source": [
    "#4.Re.findall() and Re.finditer()\n",
    "\n",
    "import re\n",
    "s=input()\n",
    "v = 'aeiou'\n",
    "c = 'qwrtypsdfghjklzxcvbnm'\n",
    "m = re.findall(r'(?<=['+c+'])(['+v+']{2,})(?=['+c+'])',s,flags=re.I)\n",
    "if m:\n",
    "    for i in m:\n",
    "        print(i)\n",
    "else:\n",
    "    print(-1)"
   ]
  },
  {
   "cell_type": "code",
   "execution_count": null,
   "metadata": {},
   "outputs": [],
   "source": [
    "#5.Re.start() and Re.end()\n",
    "\n",
    "\n",
    "import re\n",
    "s1 = input()\n",
    "s2 = input()\n",
    "p=re.compile(s2)\n",
    "m=p.search(s1)\n",
    "if not m: \n",
    "    print(\"(-1, -1)\")\n",
    "while m:\n",
    "    print(\"({0}, {1})\".format(m.start(),m.end()-1))\n",
    "    m = p.search(s1, m.start() + 1)    \n"
   ]
  },
  {
   "cell_type": "code",
   "execution_count": null,
   "metadata": {},
   "outputs": [],
   "source": [
    "#6.Regex Substitution\n",
    "\n",
    "import re\n",
    "x=int(input())\n",
    "for i in range(x):\n",
    "    s = re.sub(r'(?<=\\s)\\&\\&(?=\\s)', 'and', input())\n",
    "    s = re.sub(r'(?<=\\s)\\|\\|(?=\\s)', 'or', s)\n",
    "    print(s)"
   ]
  },
  {
   "cell_type": "code",
   "execution_count": null,
   "metadata": {},
   "outputs": [],
   "source": [
    "#7.Validating Roman numerals\n",
    "\n",
    "regex_pattern = r\"\"\t# Do not delete 'r'.\n",
    "\n",
    "import re\n",
    "print(str(bool(re.match(regex_pattern, input()))))"
   ]
  },
  {
   "cell_type": "code",
   "execution_count": null,
   "metadata": {},
   "outputs": [],
   "source": [
    "#8.Validating phone numbers\n",
    "\n",
    "\n",
    "import re\n",
    "def phoneverify():\n",
    "    n=input()\n",
    "    p=\"^[789]\"\n",
    "    for i in range(n):\n",
    "        num=raw_input()\n",
    "        if len(num)==10 and num.isdigit():\n",
    "            ans=re.findall(p,num)\n",
    "            if len(ans)==1:\n",
    "                print \"YES\"\n",
    "            else:\n",
    "                print \"NO\"    \n",
    "        else:\n",
    "            print \"NO\"       \n",
    "            \n",
    "phoneverify()"
   ]
  },
  {
   "cell_type": "code",
   "execution_count": null,
   "metadata": {},
   "outputs": [],
   "source": [
    "#9.validating and parsing email address\n",
    "\n",
    "import email.utils\n",
    "import re\n",
    "for i in range(int(input())):\n",
    "    a, b = map(str,email.utils.parseaddr(input()))\n",
    "    valid= re.search(r'^[a-zA-Z]+[a-zA-Z0-9_.-]+[@][a-zA-Z]+[.][a-zA-Z]{1,3}$', b)\n",
    "    if valid:\n",
    "        print(email.utils.formataddr((a, b)))"
   ]
  },
  {
   "cell_type": "code",
   "execution_count": null,
   "metadata": {},
   "outputs": [],
   "source": [
    "#10.Hex color code\n",
    "\n",
    "import re\n",
    "s=int(input())\n",
    "for i in range(0,s):\n",
    "    mt= re.findall(r\"(#(?:[\\da-f]{3}){1,2})(?!\\w)(?=.*;)\", input(), re.IGNORECASE)\n",
    "    for m in mt:\n",
    "        print(m)"
   ]
  },
  {
   "cell_type": "code",
   "execution_count": null,
   "metadata": {},
   "outputs": [],
   "source": [
    "#11.HTML parser Part 1\n",
    "\n",
    "\n",
    "from html.parser import HTMLParser\n",
    "n = int(input())\n",
    "\n",
    "p = []\n",
    "for line in range(n):\n",
    "  p.append(str(input()))\n",
    "\n",
    "class mm(HTMLParser):\n",
    "    def handle_starttag(self,tag,args):\n",
    "        self.handler(\"Start\",tag,args)\n",
    "    def handle_endtag(self,tag):\n",
    "        self.handler(\"End\",tag)\n",
    "    def handle_startendtag(self,tag,args):\n",
    "        self.handler(\"Empty\",tag,args)\n",
    "    def handler(self,type,tag,args=[]):\n",
    "        print(\"%-6s: %s\" % (type,tag))\n",
    "        if len(args) > 0:\n",
    "            for a in args:\n",
    "                print(\"-> %s > %s\" % (a[0],a[1]))\n",
    "par=mm()\n",
    "par.feed(\"\\n\".join(p))"
   ]
  },
  {
   "cell_type": "code",
   "execution_count": null,
   "metadata": {},
   "outputs": [],
   "source": [
    "#12.HTML parser Part 2\n",
    "\n",
    "from HTMLParser import HTMLParser\n",
    "\n",
    "class MyHTMLParser(HTMLParser):\n",
    "    def handle_comment(self, data):\n",
    "        if '\\n' in data:\n",
    "            print('>>> Multi-line Comment')\n",
    "            print(data)\n",
    "        else:\n",
    "            print('>>> Single-line Comment')\n",
    "            print(data)\n",
    "\n",
    "    def handle_data(self, data):\n",
    "        if '\\n' not in data:\n",
    "            print(\">>> Data\")\n",
    "            print(data)\n",
    "\n",
    "html = \"\"       \n",
    "for i in range(int(raw_input())):\n",
    "    html += raw_input().rstrip()\n",
    "    html += '\\n'\n",
    "    \n",
    "parser = MyHTMLParser()\n",
    "parser.feed(html)\n",
    "parser.close()\n"
   ]
  },
  {
   "cell_type": "code",
   "execution_count": null,
   "metadata": {},
   "outputs": [],
   "source": [
    "#13.Detect HTML tags,attribute and attributes values\n",
    "\n",
    "from html.parser import HTMLParser\n",
    "class MyHTMLParser(HTMLParser):\n",
    "    def handle_starttag(self,tag,attrs):\n",
    "        print(tag)\n",
    "        for e in attrs:\n",
    "            print('->',e[0],'>',e[1])\n",
    "parser=MyHTMLParser()\n",
    "for i in range(int(input())):\n",
    "    parser.feed(input())  \n"
   ]
  },
  {
   "cell_type": "code",
   "execution_count": null,
   "metadata": {},
   "outputs": [],
   "source": [
    "#14.Validating UID\n",
    "\n",
    "import re\n",
    "no_repeat=r\"(?!.*(.).*\\1)\"\n",
    "tupper=r\"(.*[A-Z]){2,}\"\n",
    "thee=r\"(.*\\d){3,}\"\n",
    "alpha=r\"[a-zA-Z0-9]{10}\"\n",
    "filt =no_repeat,tupper,thee,alpha\n",
    "for uid in [input() for _ in range(int(input()))]:\n",
    "    if all(re.match(f, uid) for f in filt):\n",
    "        print(\"Valid\")\n",
    "    else:\n",
    "        print(\"Invalid\")\n"
   ]
  },
  {
   "cell_type": "code",
   "execution_count": null,
   "metadata": {},
   "outputs": [],
   "source": [
    "#15.Validating credit card numbers\n",
    "\n",
    "\n",
    "import re\n",
    "\n",
    "x1 = r'^([456]\\d{3})(\\-?)(\\d{4})(\\2)(\\d{4})(\\2)(\\d{4})$'\n",
    "x2 = r'^(?:([0-9])(?!\\1{3,})){16}$'\n",
    "for i in range(input()):\n",
    "    s = raw_input()\n",
    "    if re.match(x1, s):\n",
    "        s = s.replace('-', '')\n",
    "        if re.match(x2, s):\n",
    "            print \"Valid\"\n",
    "        else:\n",
    "            print \"Invalid\"\n",
    "    else:\n",
    "        print \"Invalid\""
   ]
  },
  {
   "cell_type": "code",
   "execution_count": null,
   "metadata": {},
   "outputs": [],
   "source": [
    "#16.validating postal codes\n",
    "\n",
    "regex_integer_in_range = r\"^[1-9][\\d]{5}$\"\t# Do not delete 'r'.\n",
    "regex_alternating_repetitive_digit_pair = r\"(\\d)(?=\\d\\1)\"\t# Do not delete 'r'.\n"
   ]
  },
  {
   "cell_type": "code",
   "execution_count": null,
   "metadata": {},
   "outputs": [],
   "source": [
    "#17.Matrix script\n",
    "\n",
    "#!/bin/python\n",
    "\n",
    "import math\n",
    "import os\n",
    "import random\n",
    "import re\n",
    "import sys\n",
    "ft= raw_input().rstrip().split()\n",
    "n = int(ft[0])\n",
    "m = int(ft[1])\n",
    "matrix = []\n",
    "for _ in xrange(n):\n",
    "    matrix_item = raw_input()\n",
    "    matrix.append(matrix_item)\n",
    "str = \"\"      \n",
    "for i in range(m):\n",
    "    str =str + \"\".join(matrix[j][i] for j in range(n))\n",
    "res = re.sub(r\"(?<=\\w)[!@#$%&\\s]+(?=\\w)\",r\" \",str)    \n",
    "sys.stdout.write(res)\n"
   ]
  }
 ],
 "metadata": {
  "kernelspec": {
   "display_name": "Python 3",
   "language": "python",
   "name": "python3"
  },
  "language_info": {
   "codemirror_mode": {
    "name": "ipython",
    "version": 3
   },
   "file_extension": ".py",
   "mimetype": "text/x-python",
   "name": "python",
   "nbconvert_exporter": "python",
   "pygments_lexer": "ipython3",
   "version": "3.7.3"
  }
 },
 "nbformat": 4,
 "nbformat_minor": 2
}
