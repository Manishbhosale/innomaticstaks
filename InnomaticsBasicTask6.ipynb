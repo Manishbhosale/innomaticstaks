{
 "cells": [
  {
   "cell_type": "code",
   "execution_count": null,
   "metadata": {},
   "outputs": [],
   "source": [
    "#1. Arrays \n",
    "\n",
    "def arrays(arr):\n",
    "    # complete this function\n",
    "    # use numpy.array\n",
    "    return(numpy.array(arr[::-1], float))"
   ]
  },
  {
   "cell_type": "code",
   "execution_count": null,
   "metadata": {},
   "outputs": [],
   "source": [
    "#2. Reshape and shape\n",
    "\n",
    "import numpy\n",
    "a=numpy.array(list(map(int,input().split())))\n",
    "a.shape=(3,3)\n",
    "print(a)\n"
   ]
  },
  {
   "cell_type": "code",
   "execution_count": null,
   "metadata": {},
   "outputs": [],
   "source": [
    "#3. Transpose and flatten\n",
    "\n",
    "import numpy\n",
    "n,m= input().split();\n",
    "a=[];\n",
    "for i in range(int(n)):\n",
    "    my_array = input().split();\n",
    "    a.append(my_array);\n",
    "list1 = numpy.array(a,int);\n",
    "print(numpy.transpose(list1))\n",
    "print(list1.flatten())"
   ]
  },
  {
   "cell_type": "code",
   "execution_count": null,
   "metadata": {},
   "outputs": [],
   "source": [
    "#4. Concatenate\n",
    "\n",
    "import numpy as np\n",
    "a, b, c = map(int,input().split())\n",
    "arr1 = np.array([input().split() for i in range(a)],int)\n",
    "arr2 = np.array([input().split() for i in range(b)],int)\n",
    "print(np.concatenate((arr1, arr2), axis = 0))"
   ]
  },
  {
   "cell_type": "code",
   "execution_count": null,
   "metadata": {},
   "outputs": [],
   "source": [
    "#5. Zeroes and ones\n",
    "\n",
    "import numpy\n",
    "s=tuple(map(int,input().strip().split()))\n",
    "print(numpy.zeros(s,int) )\n",
    "print(numpy.ones(s,int) )"
   ]
  },
  {
   "cell_type": "code",
   "execution_count": null,
   "metadata": {},
   "outputs": [],
   "source": [
    "#6. Eye and identity\n",
    "\n",
    "import numpy\n",
    "import numpy\n",
    "n,m=map(int,input().split(\" \"))\n",
    "numpy.set_printoptions(sign=' ')\n",
    "print(numpy.eye(n,m))"
   ]
  },
  {
   "cell_type": "code",
   "execution_count": null,
   "metadata": {},
   "outputs": [],
   "source": [
    "#7. Array Mathematics\n",
    "\n",
    "import numpy\n",
    "y,z=[int(x) for x in input().strip().split()]\n",
    "a=numpy.array([[int(x) for x in input().strip().split()] for i in range(y)])\n",
    "b=numpy.array([[int(x) for x in input().strip().split()] for i in range(y)])\n",
    "print(a+b)\n",
    "print(a-b)\n",
    "print(a*b)\n",
    "print(a//b)\n",
    "print(a%b)\n",
    "print(a**b)"
   ]
  },
  {
   "cell_type": "code",
   "execution_count": null,
   "metadata": {},
   "outputs": [],
   "source": [
    "#8. Floor,ceil and rent\n",
    "\n",
    "import numpy\n",
    "numpy.set_printoptions(sign=' ')\n",
    "arr = numpy.array(input().split(),float)\n",
    "print(numpy.floor(arr))\n",
    "print(numpy.ceil(arr))\n",
    "print(numpy.rint(arr))"
   ]
  },
  {
   "cell_type": "code",
   "execution_count": null,
   "metadata": {},
   "outputs": [],
   "source": [
    "#9. sum and prod\n",
    "\n",
    "import numpy\n",
    "a,b=map(int, input().split())\n",
    "lst = []\n",
    "for i in range(int(a)):\n",
    "    lst.append(input().split())\n",
    "array = numpy.array(lst, int)\n",
    "row_sum = numpy.sum(array,axis=0)\n",
    "print(numpy.prod(row_sum))\n"
   ]
  },
  {
   "cell_type": "code",
   "execution_count": null,
   "metadata": {},
   "outputs": [],
   "source": [
    "#10. min and max\n",
    "\n",
    "import numpy\n",
    "import numpy\n",
    "x=list(map(int,input().split()))\n",
    "y=[]\n",
    "for i in range(x[0]):\n",
    "    z=list(map(int,input().split()))\n",
    "    y.append(z)\n",
    "a=numpy.min(y,axis=1)\n",
    "print(max(a))"
   ]
  },
  {
   "cell_type": "code",
   "execution_count": null,
   "metadata": {},
   "outputs": [],
   "source": [
    "#11. mean,var and std\n",
    "\n",
    "import numpy\n",
    "arr=input().split()\n",
    "n=int(arr[0])\n",
    "m=int(arr[1])\n",
    "arr2=[]\n",
    "for i in range(n):\n",
    "    m = list(map(int, input().split()))\n",
    "    arr2.append(m)\n",
    "arr2 = numpy.array(arr2)\n",
    "mean=numpy.mean(arr2,axis = 1)\n",
    "var=numpy.var(arr2,axis = 0)\n",
    "std=numpy.std(arr2)\n",
    "print(mean)\n",
    "print(var)\n",
    "rnd = numpy.around(std, 11)\n",
    "print(rnd)"
   ]
  },
  {
   "cell_type": "code",
   "execution_count": null,
   "metadata": {},
   "outputs": [],
   "source": [
    "#12. Dot and cross\n",
    "\n",
    "import numpy as np\n",
    "n=int(input())\n",
    "a=np.array([input().split() for i in range(n)],int)\n",
    "b=np.array([input().split() for i in range(n)],int)\n",
    "print(np.dot(a,b))"
   ]
  },
  {
   "cell_type": "code",
   "execution_count": null,
   "metadata": {},
   "outputs": [],
   "source": [
    "#13. Inner and outer\n",
    "\n",
    "import numpy\n",
    "s1=numpy.array(input().split(),int)\n",
    "s2=numpy.array(input().split(),int)\n",
    "print(numpy.inner(s1,s2))\n",
    "print(numpy.outer(s1,s2))"
   ]
  },
  {
   "cell_type": "code",
   "execution_count": null,
   "metadata": {},
   "outputs": [],
   "source": [
    "#14. Polynomials\n",
    "\n",
    "import numpy as np\n",
    "a=list(map(float,input().split()))\n",
    "b=int(input())\n",
    "z=np.polyval(a,b)\n",
    "print(z)\n"
   ]
  },
  {
   "cell_type": "code",
   "execution_count": null,
   "metadata": {},
   "outputs": [],
   "source": [
    "#15. Linear algebra\n",
    "\n",
    "import numpy as np\n",
    "n=int(input())\n",
    "arr=np.array([input().split() for i in range(n)],float)\n",
    "adet =np.linalg.det(arr)\n",
    "print(round(adet,2))"
   ]
  }
 ],
 "metadata": {
  "kernelspec": {
   "display_name": "Python 3",
   "language": "python",
   "name": "python3"
  },
  "language_info": {
   "codemirror_mode": {
    "name": "ipython",
    "version": 3
   },
   "file_extension": ".py",
   "mimetype": "text/x-python",
   "name": "python",
   "nbconvert_exporter": "python",
   "pygments_lexer": "ipython3",
   "version": "3.7.3"
  }
 },
 "nbformat": 4,
 "nbformat_minor": 2
}
