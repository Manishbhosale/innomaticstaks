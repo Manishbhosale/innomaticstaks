{
 "cells": [
  {
   "cell_type": "code",
   "execution_count": null,
   "metadata": {},
   "outputs": [],
   "source": [
    "# Question 1 List Comprehensions\n",
    "\n",
    "if __name__ == '__main__':\n",
    "    x = int(input())\n",
    "    y = int(input())\n",
    "    z = int(input())\n",
    "    n = int(input())\n",
    "    \n",
    "a = [[i, j, k] for i in range(x + 1) for j in range(y + 1) for k in range(z + 1) if i + j + k != n]\n",
    "print(a)"
   ]
  },
  {
   "cell_type": "code",
   "execution_count": null,
   "metadata": {},
   "outputs": [],
   "source": [
    "# Question 2 Find the Runner-Up Score!\n",
    "\n",
    "if __name__ == '__main__':\n",
    "    n = int(input())\n",
    "    arr = map(int, input().split())\n",
    "    a= list(set(list(arr)))\n",
    "    b=sorted(a)\n",
    "    print(b[-2])"
   ]
  },
  {
   "cell_type": "code",
   "execution_count": null,
   "metadata": {},
   "outputs": [],
   "source": [
    "# Question 3 Nested List\n",
    "\n",
    "lst={}\n",
    "for _ in range(int(raw_input())):\n",
    "    name = raw_input()\n",
    "    score = float(raw_input())\n",
    "    lst[name]=score \n",
    "v=lst.values()\n",
    "second=sorted(list(set(v)))[1] \n",
    "second_lowest=[] \n",
    "for key,value in lst.items():  \n",
    "    if value==second: \n",
    "        second_lowest.append(key) \n",
    "second_lowest.sort() \n",
    "for name in second_lowest: \n",
    "    print name\n"
   ]
  },
  {
   "cell_type": "code",
   "execution_count": null,
   "metadata": {},
   "outputs": [],
   "source": [
    "# Question 4 Finding %\n",
    "\n",
    "if __name__ == '__main__':\n",
    "    n = int(raw_input())\n",
    "    student_marks = {}\n",
    "    for _ in range(n):\n",
    "        line = raw_input().split()\n",
    "        name, scores = line[0], line[1:]\n",
    "        scores = map(float, scores)\n",
    "        student_marks[name] = scores\n",
    "    query_name = raw_input()\n",
    "total_marks = sum(student_marks[query_name])\n",
    "average_marks = total_marks/3 \n",
    "print(\"%.2f\"%(average_marks))"
   ]
  },
  {
   "cell_type": "code",
   "execution_count": null,
   "metadata": {},
   "outputs": [],
   "source": [
    "# Question 5 Lists\n",
    "\n",
    "if __name__ == '__main__':\n",
    "    N = int(raw_input())\n",
    "    a=\"insert\"\n",
    "    b=\"append\"\n",
    "    c=\"pop\"\n",
    "    d=\"print\"\n",
    "    e=\"remove\"\n",
    "    f=\"sort\"\n",
    "    lst=[]\n",
    "    for i in range(0,N):\n",
    "        it=raw_input().split();\n",
    "        if it[0] == a:\n",
    "            lst.insert(int(it[1]),int(it[2]))    \n",
    "        elif it[0] == b:\n",
    "            lst.append(int(it[1]))\n",
    "        elif it[0] == c:\n",
    "            lst.pop();\n",
    "        elif it[0] == d:\n",
    "            print(lst)\n",
    "        elif it[0] == e:\n",
    "            lst.remove(int(it[1]))\n",
    "        elif it[0] == f:\n",
    "            lst.sort();\n",
    "        else:\n",
    "            lst.reverse();"
   ]
  },
  {
   "cell_type": "code",
   "execution_count": null,
   "metadata": {},
   "outputs": [],
   "source": [
    "# Question 6 Tuples\n",
    "\n",
    "if __name__ == '__main__':\n",
    "    n = int(raw_input())\n",
    "    integer_list = map(int, raw_input().split())\n",
    "    \n",
    "    t = tuple(integer_list)\n",
    "    print(hash(t))\n"
   ]
  },
  {
   "cell_type": "code",
   "execution_count": null,
   "metadata": {},
   "outputs": [],
   "source": [
    "# Question 7 Introduction to sets\n",
    "\n",
    "def average(array):\n",
    "    return sum(set(array))/len(set(array))"
   ]
  },
  {
   "cell_type": "code",
   "execution_count": null,
   "metadata": {},
   "outputs": [],
   "source": [
    "# Question 8 No idea\n",
    "\n",
    "if __name__ == \"__main__\":\n",
    "    count = list(map(int,raw_input().strip().split()))\n",
    "    m = count[0]\n",
    "    n = count[1]\n",
    "    arr = list(map(int,raw_input().strip().split()))\n",
    "    array = set(map(int,raw_input().strip().split()))\n",
    "    array2 = set(map(int,raw_input().strip().split()))\n",
    "    p = 0\n",
    "    for i in arr:\n",
    "        if i in array : p = p + 1\n",
    "        elif i in array2 : p = p - 1\n",
    "    print p\n"
   ]
  },
  {
   "cell_type": "code",
   "execution_count": null,
   "metadata": {},
   "outputs": [],
   "source": [
    "# Question 9 Symmetric Difference\n",
    "\n",
    "n=int(raw_input())\n",
    "ss=set(map(int,raw_input().split()))\n",
    "m=int(raw_input())\n",
    "my2=set(map(int,raw_input().split()))\n",
    "for i in sorted(ss.union(my2)):\n",
    "    if i not in ss.intersection(my2):\n",
    "        print i\n"
   ]
  },
  {
   "cell_type": "code",
   "execution_count": null,
   "metadata": {},
   "outputs": [],
   "source": [
    "# Question 10 set.add()\n",
    "\n",
    "n = int(raw_input())\n",
    "s1 = set()\n",
    "for i in range(n):\n",
    "  s1.add(raw_input())\n",
    "print len(s1)\n"
   ]
  },
  {
   "cell_type": "code",
   "execution_count": null,
   "metadata": {},
   "outputs": [],
   "source": [
    "# Question 11 set.discard(),remove() and pop()\n",
    "\n",
    "n = int(input())\n",
    "s = set(map(int, input().split()))\n",
    "\n",
    "ope = int(input())\n",
    "\n",
    "for x in range(ope):\n",
    "  oper = input().split()\n",
    "  if oper[0] == \"remove\":\n",
    "    s.remove(int(oper[1]))\n",
    "  elif oper[0] == \"discard\":\n",
    "    s.discard(int(oper[1]))\n",
    "  else:\n",
    "    s.pop()\n",
    "    \n",
    "print(sum(s))"
   ]
  },
  {
   "cell_type": "code",
   "execution_count": null,
   "metadata": {},
   "outputs": [],
   "source": [
    "# Question 12 set.union() operation\n",
    "\n",
    "s1 = set()\n",
    "s2 = set()\n",
    "n = raw_input()\n",
    "for i in raw_input().split(' '):\n",
    "  s1.add(i)\n",
    "m = raw_input()\n",
    "for i in raw_input().split(' '):\n",
    "  s2.add(i)\n",
    "res = s1.union(s2)\n",
    "print len(res)"
   ]
  },
  {
   "cell_type": "code",
   "execution_count": null,
   "metadata": {},
   "outputs": [],
   "source": [
    "# Question 13 set.intersection() operation\n",
    "\n",
    "s1 = set()\n",
    "s2 = set()\n",
    "n = raw_input()\n",
    "for i in raw_input().split(' '):\n",
    "  s1.add(i)\n",
    "m = raw_input()\n",
    "for i in raw_input().split(' '):\n",
    "  s2.add(i)\n",
    "res = s1.intersection(s2)\n",
    "print len(res)"
   ]
  },
  {
   "cell_type": "code",
   "execution_count": null,
   "metadata": {},
   "outputs": [],
   "source": [
    "# Questoin 14 set.difference()\n",
    "\n",
    "s1 = set()\n",
    "s2 = set()\n",
    "n = raw_input()\n",
    "for i in raw_input().split(' '):\n",
    "  s1.add(i)\n",
    "m = raw_input()\n",
    "for i in raw_input().split(' '):\n",
    "  s2.add(i)\n",
    "res = s1.difference(s2)\n",
    "print len(res)"
   ]
  },
  {
   "cell_type": "code",
   "execution_count": null,
   "metadata": {},
   "outputs": [],
   "source": [
    "# Question 15 set.symmetric_difference() operation\n",
    "\n",
    "s1 = set()\n",
    "s2 = set()\n",
    "n = raw_input()\n",
    "for i in raw_input().split(' '):\n",
    "  s1.add(i)\n",
    "m = raw_input()\n",
    "for i in raw_input().split(' '):\n",
    "  s2.add(i)\n",
    "res = s1.symmetric_difference(s2)\n",
    "print len(res)"
   ]
  },
  {
   "cell_type": "code",
   "execution_count": null,
   "metadata": {},
   "outputs": [],
   "source": [
    "# Question 16 Set mutation\n",
    "\n",
    "l=int(raw_input())\n",
    "s=set(map(int, raw_input().split()))\n",
    "n=int(raw_input())\n",
    "\n",
    "for i in range(n):\n",
    "    (p, q)=raw_input().split()\n",
    "    s2=set(map(int, raw_input().split()))\n",
    "    if p==\"intersection_update\":\n",
    "        s.intersection_update(s2)\n",
    "    elif p==\"update\":\n",
    "        s.update(s2)\n",
    "    elif p==\"symmetric_difference_update\":\n",
    "        s.symmetric_difference_update(s2)\n",
    "    elif p==\"difference_update\":\n",
    "        s.difference_update(s2)\n",
    "print sum(s)"
   ]
  },
  {
   "cell_type": "code",
   "execution_count": null,
   "metadata": {},
   "outputs": [],
   "source": [
    "# Question 17 The captain's room\n",
    "\n",
    "k = int(raw_input())\n",
    "rnum_list = list(map(int, raw_input().split()))\n",
    "num= (sum(set(rnum_list)) * k - sum(rnum_list)) // (k - 1)\n",
    "print(num)  "
   ]
  },
  {
   "cell_type": "code",
   "execution_count": null,
   "metadata": {},
   "outputs": [],
   "source": [
    "# Question 18 Check subset\n",
    "\n",
    "n = int(raw_input())\n",
    "\n",
    "for i in range(n):\n",
    "    a = raw_input()\n",
    "    s1= set(raw_input().split())\n",
    "    \n",
    "    b = int(raw_input())\n",
    "    s2 = set(raw_input().split())\n",
    "    print(s1.issubset(s2))"
   ]
  },
  {
   "cell_type": "code",
   "execution_count": null,
   "metadata": {},
   "outputs": [],
   "source": [
    "# Question 19 Check Strict Superset\n",
    "\n",
    "\n",
    "s= set(raw_input().split())\n",
    "n = int(raw_input())\n",
    "ot = True\n",
    "\n",
    "for i in range(n):\n",
    "    s1 = set(raw_input().split())\n",
    "    if not s1.issubset(s):\n",
    "        ot = False\n",
    "    if len(s1) >= len(s):\n",
    "        ot = False\n",
    "\n",
    "print(ot)"
   ]
  }
 ],
 "metadata": {
  "kernelspec": {
   "display_name": "Python 3",
   "language": "python",
   "name": "python3"
  },
  "language_info": {
   "codemirror_mode": {
    "name": "ipython",
    "version": 3
   },
   "file_extension": ".py",
   "mimetype": "text/x-python",
   "name": "python",
   "nbconvert_exporter": "python",
   "pygments_lexer": "ipython3",
   "version": "3.7.3"
  }
 },
 "nbformat": 4,
 "nbformat_minor": 2
}
