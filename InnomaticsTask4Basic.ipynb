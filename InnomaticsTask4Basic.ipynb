{
 "cells": [
  {
   "cell_type": "code",
   "execution_count": null,
   "metadata": {},
   "outputs": [],
   "source": [
    "# 1.Swap case\n",
    "\n",
    "def swap_case(s):\n",
    "    return s.swapcase()"
   ]
  },
  {
   "cell_type": "code",
   "execution_count": null,
   "metadata": {},
   "outputs": [],
   "source": [
    "# 2.String, split and join\n",
    "\n",
    "def split_and_join(line):\n",
    "    a=line.split(\" \")\n",
    "    return \"-\".join(a)"
   ]
  },
  {
   "cell_type": "code",
   "execution_count": null,
   "metadata": {},
   "outputs": [],
   "source": [
    "# 3.what is your name\n",
    "\n",
    "def print_full_name(first, last):\n",
    "    last = last+\"!\"\n",
    "    print \"Hello\",first, last,\"You just delved into python.\";"
   ]
  },
  {
   "cell_type": "code",
   "execution_count": null,
   "metadata": {},
   "outputs": [],
   "source": [
    "# 4.Mutation\n",
    "\n",
    "def mutate_string(string, position, character):\n",
    "     l = list(string)\n",
    "     l[position] = character\n",
    "     string = ''.join(l)\n",
    "     return string"
   ]
  },
  {
   "cell_type": "code",
   "execution_count": null,
   "metadata": {},
   "outputs": [],
   "source": [
    "# 5.Find a string\n",
    "\n",
    "def count_substring(string, sub_string):\n",
    "    a=len(string)\n",
    "    b=len(sub_string)\n",
    "    count=0\n",
    "    for i in range(a-b+1):\n",
    "        if string[i:i+len(sub_string)] == sub_string:\n",
    "            count += 1\n",
    "    return count"
   ]
  },
  {
   "cell_type": "code",
   "execution_count": null,
   "metadata": {},
   "outputs": [],
   "source": [
    "# 6.String Validators\n",
    "\n",
    "if __name__ == '__main__':\n",
    "    s = raw_input()\n",
    "    \n",
    "print(any(map(str.isalnum, s)))\n",
    "print(any(map(str.isalpha, s)))\n",
    "print(any(map(str.isdigit, s)))\n",
    "print(any(map(str.islower, s)))\n",
    "print(any(map(str.isupper, s)))"
   ]
  },
  {
   "cell_type": "code",
   "execution_count": null,
   "metadata": {},
   "outputs": [],
   "source": [
    "# 7.Text alignment\n",
    "\n",
    "#Replace all ______ with rjust, ljust or center. \n",
    "\n",
    "thickness = int(raw_input()) #This must be an odd number\n",
    "c = 'H'\n",
    "\n",
    "#Top Cone\n",
    "for i in range(thickness):\n",
    "    print((c*i).rjust(thickness-1)+c+(c*i).ljust(thickness-1))\n",
    "\n",
    "#Top Pillars\n",
    "for i in range(thickness+1):\n",
    "    print((c*thickness).center(thickness*2)+(c*thickness).center(thickness*6))\n",
    "\n",
    "#Middle Belt\n",
    "for i in range((thickness+1)/2):\n",
    "    print((c*thickness*5).center(thickness*6))  \n",
    "    \n",
    "#Bottom Pillars\n",
    "for i in range(thickness+1):\n",
    "     print((c*thickness).center(thickness*2)+(c*thickness).center(thickness*6))      \n",
    "\n",
    "#Bottom Cone\n",
    "for i in range(thickness):\n",
    "    print(((c*(thickness-i-1)).rjust(thickness)+c+(c*(thickness-i-1)).ljust(thickness)).rjust(thickness*6))\n"
   ]
  },
  {
   "cell_type": "code",
   "execution_count": null,
   "metadata": {},
   "outputs": [],
   "source": [
    "# 8.Test Wrap\n",
    "\n",
    "def wrap(string, max_width):\n",
    "    l = \" \".join(textwrap.wrap(string,max_width))\n",
    "    return(textwrap.fill(string,max_width))"
   ]
  },
  {
   "cell_type": "code",
   "execution_count": null,
   "metadata": {},
   "outputs": [],
   "source": [
    "# 9.Design Door Mat\n",
    "\n",
    "x, y = map(int, raw_input().split()) \n",
    "for i in range(1,x,2): \n",
    "    print((i*'.|.').center(y,'-'))\n",
    "print('WELCOME'.center(y,'-')) \n",
    "for i in range(x-2,-1,-2): \n",
    "    print((i*'.|.').center(y, '-'))"
   ]
  },
  {
   "cell_type": "code",
   "execution_count": null,
   "metadata": {},
   "outputs": [],
   "source": [
    "# 10.String Formatting\n",
    "\n",
    "def print_formatted(number):\n",
    "    wi = len(\"{0:b}\".format(number))\n",
    "\n",
    "    for i in range(1, number + 1):\n",
    "        print(\"{0:{w}d} {0:{w}o} {0:{w}X} {0:{w}b}\".format(i, w = wi))"
   ]
  },
  {
   "cell_type": "code",
   "execution_count": null,
   "metadata": {},
   "outputs": [],
   "source": [
    "# 11.Alphanet Rangoli\n",
    "\n",
    "import string\n",
    "def print_rangoli(size):\n",
    "    width = 4 * size - 3\n",
    "    alpha = string.ascii_lowercase\n",
    "    for i in list(range(size))[::-1] + list(range(1, size)):\n",
    "        print('-'.join(alpha[size-1:i:-1] + alpha[i:size]).center(width, '-'))"
   ]
  },
  {
   "cell_type": "code",
   "execution_count": null,
   "metadata": {},
   "outputs": [],
   "source": [
    "# 12.Capitalize\n",
    "\n",
    "def solve(s):\n",
    "   s = s.split(\" \")\n",
    "   return(\" \".join(i.capitalize() for i in s))"
   ]
  },
  {
   "cell_type": "code",
   "execution_count": null,
   "metadata": {},
   "outputs": [],
   "source": [
    "# 13.Minions Game\n",
    "\n",
    "def minion_game(string):\n",
    "    # your code goes here\n",
    "    v= ['A', 'E', 'I', 'O', 'U']\n",
    "    x = 0\n",
    "    y = 0\n",
    "    for i, c in enumerate(s):\n",
    "        if c in v:\n",
    "            y += len(s) - i\n",
    "        else:\n",
    "            x += len(s) - i\n",
    "        \n",
    "    if x == y:\n",
    "        print \"Draw\"\n",
    "    elif x > y:\n",
    "        print 'Stuart {}'.format(x)\n",
    "    else:\n",
    "        print 'Kevin {}'.format(y)"
   ]
  },
  {
   "cell_type": "code",
   "execution_count": null,
   "metadata": {},
   "outputs": [],
   "source": [
    "# 14.Merge the tools\n",
    "\n",
    "def merge_the_tools(string, k):\n",
    "    # your code goes here\n",
    "    t = []\n",
    "    lt = 0\n",
    "    for item in string:\n",
    "        lt += 1\n",
    "        if item not in t:\n",
    "            t.append(item)\n",
    "        if lt == k:\n",
    "            print (''.join(t))\n",
    "            t = []\n",
    "            lt = 0"
   ]
  }
 ],
 "metadata": {
  "kernelspec": {
   "display_name": "Python 3",
   "language": "python",
   "name": "python3"
  },
  "language_info": {
   "codemirror_mode": {
    "name": "ipython",
    "version": 3
   },
   "file_extension": ".py",
   "mimetype": "text/x-python",
   "name": "python",
   "nbconvert_exporter": "python",
   "pygments_lexer": "ipython3",
   "version": "3.7.3"
  }
 },
 "nbformat": 4,
 "nbformat_minor": 2
}
